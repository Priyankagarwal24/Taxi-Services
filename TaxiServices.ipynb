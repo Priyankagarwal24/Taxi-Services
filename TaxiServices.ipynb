{
  "nbformat": 4,
  "nbformat_minor": 0,
  "metadata": {
    "colab": {
      "provenance": []
    },
    "kernelspec": {
      "name": "python3",
      "display_name": "Python 3"
    },
    "language_info": {
      "name": "python"
    }
  },
  "cells": [
    {
      "cell_type": "markdown",
      "source": [
        "## **Problem Statement**\n",
        "At some point or the other almost each one of us has used an Ola or Uber for taking a ride.\n",
        "\n",
        "Ride hailing services are services that use online-enabled platforms to connect between passengers and local drivers using their personal vehicles. In most cases they are a comfortable method for door-to-door transport. Usually they are cheaper than using licensed taxicabs. Examples of ride hailing services include Uber and Lyft.\n",
        "\n",
        "\n",
        "To improve the efficiency of taxi dispatching systems for such services, it is important to be able to predict how long a driver will have his taxi occupied. If a dispatcher knew approximately when a taxi driver would be ending their current ride, they would be better able to identify which driver to assign to each pickup request.\n",
        "\n",
        "In this competition, we are challenged to build a model that predicts the total ride duration of taxi trips in New York City.\n",
        "\n",
        "### **1. Exploratory Data Analysis**\n",
        "Let's check the data files! According to the data description we should find the following columns:\n",
        "\n",
        "**id** - a unique identifier for each trip \\\n",
        "**vendor_id** - a code indicating the provider associated with the trip record \\\n",
        "**pickup_datetime** - date and time when the meter was engaged \\\n",
        "**dropoff_datetime** - date and time when the meter was disengaged \\\n",
        "**passenger_count** - the number of passengers in the vehicle (driver entered value) \\\n",
        "**pickup_longitude** - the longitude where the meter was engaged \\\n",
        "**pickup_latitude** - the latitude where the meter was engaged \\\n",
        "**dropoff_longitude** - the longitude where the meter was disengaged \\\n",
        "**dropoff_latitude** - the latitude where the meter was disengaged \\\n",
        "**store_and_fwd_flag** - This flag indicates whether the trip record was held in vehicle memory before sending to the vendor because the vehicle did not have a connection to the server (Y=store and forward; N=not a store and forward trip) \\\n",
        "**trip_duration** - (target) duration of the trip in seconds \\\n",
        "Here, we have 2 variables dropoff_datetime and store_and_fwd_flag which are not available before the trip starts and hence will not be used as features to the model."
      ],
      "metadata": {
        "id": "Xm3KGyhBatay"
      }
    },
    {
      "cell_type": "markdown",
      "source": [
        "### Load libraries:"
      ],
      "metadata": {
        "id": "Hk3AWgOBb9xf"
      }
    },
    {
      "cell_type": "code",
      "execution_count": 1,
      "metadata": {
        "id": "pD-UWPimardz"
      },
      "outputs": [],
      "source": [
        "%matplotlib inline\n",
        "import numpy as np\n",
        "import pandas as pd\n",
        "from datetime import timedelta\n",
        "import datetime as dt\n",
        "import matplotlib.pyplot as plt\n",
        "import seaborn as sns\n",
        "from sklearn.model_selection import train_test_split\n",
        "import warnings\n",
        "warnings.filterwarnings('ignore')"
      ]
    },
    {
      "cell_type": "markdown",
      "source": [
        "### Load Data:"
      ],
      "metadata": {
        "id": "F5OM0YfRcJTE"
      }
    },
    {
      "cell_type": "code",
      "source": [
        "df = pd.read_csv('nyc_taxi_final.zip')"
      ],
      "metadata": {
        "colab": {
          "base_uri": "https://localhost:8080/",
          "height": 311
        },
        "id": "AbmaVmtJcOi1",
        "outputId": "f9b05df6-3ac0-4bf8-fa03-be32d3a6a38b"
      },
      "execution_count": 2,
      "outputs": [
        {
          "output_type": "error",
          "ename": "FileNotFoundError",
          "evalue": "ignored",
          "traceback": [
            "\u001b[0;31m---------------------------------------------------------------------------\u001b[0m",
            "\u001b[0;31mFileNotFoundError\u001b[0m                         Traceback (most recent call last)",
            "\u001b[0;32m<ipython-input-2-865d70ae55d9>\u001b[0m in \u001b[0;36m<module>\u001b[0;34m\u001b[0m\n\u001b[0;32m----> 1\u001b[0;31m \u001b[0mdf\u001b[0m \u001b[0;34m=\u001b[0m \u001b[0mpd\u001b[0m\u001b[0;34m.\u001b[0m\u001b[0mread_csv\u001b[0m\u001b[0;34m(\u001b[0m\u001b[0;34m'nyc_taxi_final.zip'\u001b[0m\u001b[0;34m)\u001b[0m\u001b[0;34m\u001b[0m\u001b[0;34m\u001b[0m\u001b[0m\n\u001b[0m",
            "\u001b[0;32m/usr/local/lib/python3.8/dist-packages/pandas/util/_decorators.py\u001b[0m in \u001b[0;36mwrapper\u001b[0;34m(*args, **kwargs)\u001b[0m\n\u001b[1;32m    309\u001b[0m                     \u001b[0mstacklevel\u001b[0m\u001b[0;34m=\u001b[0m\u001b[0mstacklevel\u001b[0m\u001b[0;34m,\u001b[0m\u001b[0;34m\u001b[0m\u001b[0;34m\u001b[0m\u001b[0m\n\u001b[1;32m    310\u001b[0m                 )\n\u001b[0;32m--> 311\u001b[0;31m             \u001b[0;32mreturn\u001b[0m \u001b[0mfunc\u001b[0m\u001b[0;34m(\u001b[0m\u001b[0;34m*\u001b[0m\u001b[0margs\u001b[0m\u001b[0;34m,\u001b[0m \u001b[0;34m**\u001b[0m\u001b[0mkwargs\u001b[0m\u001b[0;34m)\u001b[0m\u001b[0;34m\u001b[0m\u001b[0;34m\u001b[0m\u001b[0m\n\u001b[0m\u001b[1;32m    312\u001b[0m \u001b[0;34m\u001b[0m\u001b[0m\n\u001b[1;32m    313\u001b[0m         \u001b[0;32mreturn\u001b[0m \u001b[0mwrapper\u001b[0m\u001b[0;34m\u001b[0m\u001b[0;34m\u001b[0m\u001b[0m\n",
            "\u001b[0;32m/usr/local/lib/python3.8/dist-packages/pandas/io/parsers/readers.py\u001b[0m in \u001b[0;36mread_csv\u001b[0;34m(filepath_or_buffer, sep, delimiter, header, names, index_col, usecols, squeeze, prefix, mangle_dupe_cols, dtype, engine, converters, true_values, false_values, skipinitialspace, skiprows, skipfooter, nrows, na_values, keep_default_na, na_filter, verbose, skip_blank_lines, parse_dates, infer_datetime_format, keep_date_col, date_parser, dayfirst, cache_dates, iterator, chunksize, compression, thousands, decimal, lineterminator, quotechar, quoting, doublequote, escapechar, comment, encoding, encoding_errors, dialect, error_bad_lines, warn_bad_lines, on_bad_lines, delim_whitespace, low_memory, memory_map, float_precision, storage_options)\u001b[0m\n\u001b[1;32m    584\u001b[0m     \u001b[0mkwds\u001b[0m\u001b[0;34m.\u001b[0m\u001b[0mupdate\u001b[0m\u001b[0;34m(\u001b[0m\u001b[0mkwds_defaults\u001b[0m\u001b[0;34m)\u001b[0m\u001b[0;34m\u001b[0m\u001b[0;34m\u001b[0m\u001b[0m\n\u001b[1;32m    585\u001b[0m \u001b[0;34m\u001b[0m\u001b[0m\n\u001b[0;32m--> 586\u001b[0;31m     \u001b[0;32mreturn\u001b[0m \u001b[0m_read\u001b[0m\u001b[0;34m(\u001b[0m\u001b[0mfilepath_or_buffer\u001b[0m\u001b[0;34m,\u001b[0m \u001b[0mkwds\u001b[0m\u001b[0;34m)\u001b[0m\u001b[0;34m\u001b[0m\u001b[0;34m\u001b[0m\u001b[0m\n\u001b[0m\u001b[1;32m    587\u001b[0m \u001b[0;34m\u001b[0m\u001b[0m\n\u001b[1;32m    588\u001b[0m \u001b[0;34m\u001b[0m\u001b[0m\n",
            "\u001b[0;32m/usr/local/lib/python3.8/dist-packages/pandas/io/parsers/readers.py\u001b[0m in \u001b[0;36m_read\u001b[0;34m(filepath_or_buffer, kwds)\u001b[0m\n\u001b[1;32m    480\u001b[0m \u001b[0;34m\u001b[0m\u001b[0m\n\u001b[1;32m    481\u001b[0m     \u001b[0;31m# Create the parser.\u001b[0m\u001b[0;34m\u001b[0m\u001b[0;34m\u001b[0m\u001b[0;34m\u001b[0m\u001b[0m\n\u001b[0;32m--> 482\u001b[0;31m     \u001b[0mparser\u001b[0m \u001b[0;34m=\u001b[0m \u001b[0mTextFileReader\u001b[0m\u001b[0;34m(\u001b[0m\u001b[0mfilepath_or_buffer\u001b[0m\u001b[0;34m,\u001b[0m \u001b[0;34m**\u001b[0m\u001b[0mkwds\u001b[0m\u001b[0;34m)\u001b[0m\u001b[0;34m\u001b[0m\u001b[0;34m\u001b[0m\u001b[0m\n\u001b[0m\u001b[1;32m    483\u001b[0m \u001b[0;34m\u001b[0m\u001b[0m\n\u001b[1;32m    484\u001b[0m     \u001b[0;32mif\u001b[0m \u001b[0mchunksize\u001b[0m \u001b[0;32mor\u001b[0m \u001b[0miterator\u001b[0m\u001b[0;34m:\u001b[0m\u001b[0;34m\u001b[0m\u001b[0;34m\u001b[0m\u001b[0m\n",
            "\u001b[0;32m/usr/local/lib/python3.8/dist-packages/pandas/io/parsers/readers.py\u001b[0m in \u001b[0;36m__init__\u001b[0;34m(self, f, engine, **kwds)\u001b[0m\n\u001b[1;32m    809\u001b[0m             \u001b[0mself\u001b[0m\u001b[0;34m.\u001b[0m\u001b[0moptions\u001b[0m\u001b[0;34m[\u001b[0m\u001b[0;34m\"has_index_names\"\u001b[0m\u001b[0;34m]\u001b[0m \u001b[0;34m=\u001b[0m \u001b[0mkwds\u001b[0m\u001b[0;34m[\u001b[0m\u001b[0;34m\"has_index_names\"\u001b[0m\u001b[0;34m]\u001b[0m\u001b[0;34m\u001b[0m\u001b[0;34m\u001b[0m\u001b[0m\n\u001b[1;32m    810\u001b[0m \u001b[0;34m\u001b[0m\u001b[0m\n\u001b[0;32m--> 811\u001b[0;31m         \u001b[0mself\u001b[0m\u001b[0;34m.\u001b[0m\u001b[0m_engine\u001b[0m \u001b[0;34m=\u001b[0m \u001b[0mself\u001b[0m\u001b[0;34m.\u001b[0m\u001b[0m_make_engine\u001b[0m\u001b[0;34m(\u001b[0m\u001b[0mself\u001b[0m\u001b[0;34m.\u001b[0m\u001b[0mengine\u001b[0m\u001b[0;34m)\u001b[0m\u001b[0;34m\u001b[0m\u001b[0;34m\u001b[0m\u001b[0m\n\u001b[0m\u001b[1;32m    812\u001b[0m \u001b[0;34m\u001b[0m\u001b[0m\n\u001b[1;32m    813\u001b[0m     \u001b[0;32mdef\u001b[0m \u001b[0mclose\u001b[0m\u001b[0;34m(\u001b[0m\u001b[0mself\u001b[0m\u001b[0;34m)\u001b[0m\u001b[0;34m:\u001b[0m\u001b[0;34m\u001b[0m\u001b[0;34m\u001b[0m\u001b[0m\n",
            "\u001b[0;32m/usr/local/lib/python3.8/dist-packages/pandas/io/parsers/readers.py\u001b[0m in \u001b[0;36m_make_engine\u001b[0;34m(self, engine)\u001b[0m\n\u001b[1;32m   1038\u001b[0m             )\n\u001b[1;32m   1039\u001b[0m         \u001b[0;31m# error: Too many arguments for \"ParserBase\"\u001b[0m\u001b[0;34m\u001b[0m\u001b[0;34m\u001b[0m\u001b[0;34m\u001b[0m\u001b[0m\n\u001b[0;32m-> 1040\u001b[0;31m         \u001b[0;32mreturn\u001b[0m \u001b[0mmapping\u001b[0m\u001b[0;34m[\u001b[0m\u001b[0mengine\u001b[0m\u001b[0;34m]\u001b[0m\u001b[0;34m(\u001b[0m\u001b[0mself\u001b[0m\u001b[0;34m.\u001b[0m\u001b[0mf\u001b[0m\u001b[0;34m,\u001b[0m \u001b[0;34m**\u001b[0m\u001b[0mself\u001b[0m\u001b[0;34m.\u001b[0m\u001b[0moptions\u001b[0m\u001b[0;34m)\u001b[0m  \u001b[0;31m# type: ignore[call-arg]\u001b[0m\u001b[0;34m\u001b[0m\u001b[0;34m\u001b[0m\u001b[0m\n\u001b[0m\u001b[1;32m   1041\u001b[0m \u001b[0;34m\u001b[0m\u001b[0m\n\u001b[1;32m   1042\u001b[0m     \u001b[0;32mdef\u001b[0m \u001b[0m_failover_to_python\u001b[0m\u001b[0;34m(\u001b[0m\u001b[0mself\u001b[0m\u001b[0;34m)\u001b[0m\u001b[0;34m:\u001b[0m\u001b[0;34m\u001b[0m\u001b[0;34m\u001b[0m\u001b[0m\n",
            "\u001b[0;32m/usr/local/lib/python3.8/dist-packages/pandas/io/parsers/c_parser_wrapper.py\u001b[0m in \u001b[0;36m__init__\u001b[0;34m(self, src, **kwds)\u001b[0m\n\u001b[1;32m     49\u001b[0m \u001b[0;34m\u001b[0m\u001b[0m\n\u001b[1;32m     50\u001b[0m         \u001b[0;31m# open handles\u001b[0m\u001b[0;34m\u001b[0m\u001b[0;34m\u001b[0m\u001b[0;34m\u001b[0m\u001b[0m\n\u001b[0;32m---> 51\u001b[0;31m         \u001b[0mself\u001b[0m\u001b[0;34m.\u001b[0m\u001b[0m_open_handles\u001b[0m\u001b[0;34m(\u001b[0m\u001b[0msrc\u001b[0m\u001b[0;34m,\u001b[0m \u001b[0mkwds\u001b[0m\u001b[0;34m)\u001b[0m\u001b[0;34m\u001b[0m\u001b[0;34m\u001b[0m\u001b[0m\n\u001b[0m\u001b[1;32m     52\u001b[0m         \u001b[0;32massert\u001b[0m \u001b[0mself\u001b[0m\u001b[0;34m.\u001b[0m\u001b[0mhandles\u001b[0m \u001b[0;32mis\u001b[0m \u001b[0;32mnot\u001b[0m \u001b[0;32mNone\u001b[0m\u001b[0;34m\u001b[0m\u001b[0;34m\u001b[0m\u001b[0m\n\u001b[1;32m     53\u001b[0m \u001b[0;34m\u001b[0m\u001b[0m\n",
            "\u001b[0;32m/usr/local/lib/python3.8/dist-packages/pandas/io/parsers/base_parser.py\u001b[0m in \u001b[0;36m_open_handles\u001b[0;34m(self, src, kwds)\u001b[0m\n\u001b[1;32m    220\u001b[0m         \u001b[0mLet\u001b[0m \u001b[0mthe\u001b[0m \u001b[0mreaders\u001b[0m \u001b[0mopen\u001b[0m \u001b[0mIOHandles\u001b[0m \u001b[0mafter\u001b[0m \u001b[0mthey\u001b[0m \u001b[0mare\u001b[0m \u001b[0mdone\u001b[0m \u001b[0;32mwith\u001b[0m \u001b[0mtheir\u001b[0m \u001b[0mpotential\u001b[0m \u001b[0mraises\u001b[0m\u001b[0;34m.\u001b[0m\u001b[0;34m\u001b[0m\u001b[0;34m\u001b[0m\u001b[0m\n\u001b[1;32m    221\u001b[0m         \"\"\"\n\u001b[0;32m--> 222\u001b[0;31m         self.handles = get_handle(\n\u001b[0m\u001b[1;32m    223\u001b[0m             \u001b[0msrc\u001b[0m\u001b[0;34m,\u001b[0m\u001b[0;34m\u001b[0m\u001b[0;34m\u001b[0m\u001b[0m\n\u001b[1;32m    224\u001b[0m             \u001b[0;34m\"r\"\u001b[0m\u001b[0;34m,\u001b[0m\u001b[0;34m\u001b[0m\u001b[0;34m\u001b[0m\u001b[0m\n",
            "\u001b[0;32m/usr/local/lib/python3.8/dist-packages/pandas/io/common.py\u001b[0m in \u001b[0;36mget_handle\u001b[0;34m(path_or_buf, mode, encoding, compression, memory_map, is_text, errors, storage_options)\u001b[0m\n\u001b[1;32m    669\u001b[0m         \u001b[0;31m# ZIP Compression\u001b[0m\u001b[0;34m\u001b[0m\u001b[0;34m\u001b[0m\u001b[0;34m\u001b[0m\u001b[0m\n\u001b[1;32m    670\u001b[0m         \u001b[0;32melif\u001b[0m \u001b[0mcompression\u001b[0m \u001b[0;34m==\u001b[0m \u001b[0;34m\"zip\"\u001b[0m\u001b[0;34m:\u001b[0m\u001b[0;34m\u001b[0m\u001b[0;34m\u001b[0m\u001b[0m\n\u001b[0;32m--> 671\u001b[0;31m             \u001b[0mhandle\u001b[0m \u001b[0;34m=\u001b[0m \u001b[0m_BytesZipFile\u001b[0m\u001b[0;34m(\u001b[0m\u001b[0mhandle\u001b[0m\u001b[0;34m,\u001b[0m \u001b[0mioargs\u001b[0m\u001b[0;34m.\u001b[0m\u001b[0mmode\u001b[0m\u001b[0;34m,\u001b[0m \u001b[0;34m**\u001b[0m\u001b[0mcompression_args\u001b[0m\u001b[0;34m)\u001b[0m\u001b[0;34m\u001b[0m\u001b[0;34m\u001b[0m\u001b[0m\n\u001b[0m\u001b[1;32m    672\u001b[0m             \u001b[0;32mif\u001b[0m \u001b[0mhandle\u001b[0m\u001b[0;34m.\u001b[0m\u001b[0mmode\u001b[0m \u001b[0;34m==\u001b[0m \u001b[0;34m\"r\"\u001b[0m\u001b[0;34m:\u001b[0m\u001b[0;34m\u001b[0m\u001b[0;34m\u001b[0m\u001b[0m\n\u001b[1;32m    673\u001b[0m                 \u001b[0mhandles\u001b[0m\u001b[0;34m.\u001b[0m\u001b[0mappend\u001b[0m\u001b[0;34m(\u001b[0m\u001b[0mhandle\u001b[0m\u001b[0;34m)\u001b[0m\u001b[0;34m\u001b[0m\u001b[0;34m\u001b[0m\u001b[0m\n",
            "\u001b[0;32m/usr/local/lib/python3.8/dist-packages/pandas/io/common.py\u001b[0m in \u001b[0;36m__init__\u001b[0;34m(self, file, mode, archive_name, **kwargs)\u001b[0m\n\u001b[1;32m    785\u001b[0m         \u001b[0;31m# TextIOBase, TextIOWrapper, mmap]]]\"; expected \"Union[Union[str,\u001b[0m\u001b[0;34m\u001b[0m\u001b[0;34m\u001b[0m\u001b[0;34m\u001b[0m\u001b[0m\n\u001b[1;32m    786\u001b[0m         \u001b[0;31m# _PathLike[str]], IO[bytes]]\"\u001b[0m\u001b[0;34m\u001b[0m\u001b[0;34m\u001b[0m\u001b[0;34m\u001b[0m\u001b[0m\n\u001b[0;32m--> 787\u001b[0;31m         \u001b[0msuper\u001b[0m\u001b[0;34m(\u001b[0m\u001b[0;34m)\u001b[0m\u001b[0;34m.\u001b[0m\u001b[0m__init__\u001b[0m\u001b[0;34m(\u001b[0m\u001b[0mfile\u001b[0m\u001b[0;34m,\u001b[0m \u001b[0mmode\u001b[0m\u001b[0;34m,\u001b[0m \u001b[0;34m**\u001b[0m\u001b[0mkwargs_zip\u001b[0m\u001b[0;34m)\u001b[0m  \u001b[0;31m# type: ignore[arg-type]\u001b[0m\u001b[0;34m\u001b[0m\u001b[0;34m\u001b[0m\u001b[0m\n\u001b[0m\u001b[1;32m    788\u001b[0m \u001b[0;34m\u001b[0m\u001b[0m\n\u001b[1;32m    789\u001b[0m     \u001b[0;32mdef\u001b[0m \u001b[0mwrite\u001b[0m\u001b[0;34m(\u001b[0m\u001b[0mself\u001b[0m\u001b[0;34m,\u001b[0m \u001b[0mdata\u001b[0m\u001b[0;34m)\u001b[0m\u001b[0;34m:\u001b[0m\u001b[0;34m\u001b[0m\u001b[0;34m\u001b[0m\u001b[0m\n",
            "\u001b[0;32m/usr/lib/python3.8/zipfile.py\u001b[0m in \u001b[0;36m__init__\u001b[0;34m(self, file, mode, compression, allowZip64, compresslevel, strict_timestamps)\u001b[0m\n\u001b[1;32m   1249\u001b[0m             \u001b[0;32mwhile\u001b[0m \u001b[0;32mTrue\u001b[0m\u001b[0;34m:\u001b[0m\u001b[0;34m\u001b[0m\u001b[0;34m\u001b[0m\u001b[0m\n\u001b[1;32m   1250\u001b[0m                 \u001b[0;32mtry\u001b[0m\u001b[0;34m:\u001b[0m\u001b[0;34m\u001b[0m\u001b[0;34m\u001b[0m\u001b[0m\n\u001b[0;32m-> 1251\u001b[0;31m                     \u001b[0mself\u001b[0m\u001b[0;34m.\u001b[0m\u001b[0mfp\u001b[0m \u001b[0;34m=\u001b[0m \u001b[0mio\u001b[0m\u001b[0;34m.\u001b[0m\u001b[0mopen\u001b[0m\u001b[0;34m(\u001b[0m\u001b[0mfile\u001b[0m\u001b[0;34m,\u001b[0m \u001b[0mfilemode\u001b[0m\u001b[0;34m)\u001b[0m\u001b[0;34m\u001b[0m\u001b[0;34m\u001b[0m\u001b[0m\n\u001b[0m\u001b[1;32m   1252\u001b[0m                 \u001b[0;32mexcept\u001b[0m \u001b[0mOSError\u001b[0m\u001b[0;34m:\u001b[0m\u001b[0;34m\u001b[0m\u001b[0;34m\u001b[0m\u001b[0m\n\u001b[1;32m   1253\u001b[0m                     \u001b[0;32mif\u001b[0m \u001b[0mfilemode\u001b[0m \u001b[0;32min\u001b[0m \u001b[0mmodeDict\u001b[0m\u001b[0;34m:\u001b[0m\u001b[0;34m\u001b[0m\u001b[0;34m\u001b[0m\u001b[0m\n",
            "\u001b[0;31mFileNotFoundError\u001b[0m: [Errno 2] No such file or directory: 'nyc_taxi_final.zip'"
          ]
        }
      ]
    },
    {
      "cell_type": "markdown",
      "source": [
        "### File structure and content:"
      ],
      "metadata": {
        "id": "D3V5MlC0dOiW"
      }
    },
    {
      "cell_type": "code",
      "source": [
        "print('We have {} rows.'.format(df.shape[0]))\n",
        "print('We have {} columns'.format(df.shape[1]))\n",
        "df.iloc[1,:]"
      ],
      "metadata": {
        "id": "pMrxD67adOQY"
      },
      "execution_count": null,
      "outputs": []
    },
    {
      "cell_type": "markdown",
      "source": [
        "### Missing Values:\n",
        "Knowing about missing values is important because they indicate how much we don’t know about our data. Making inferences based on just a few cases is often unwise. In addition, many modelling procedures break down when missing values are involved and the corresponding rows will either have to be removed completely or the values need to be estimated somehow."
      ],
      "metadata": {
        "id": "e7Cvj3G5dS2y"
      }
    },
    {
      "cell_type": "code",
      "source": [
        "np.sum(pd.isnull(df))"
      ],
      "metadata": {
        "id": "xNrOOa-wcm9h"
      },
      "execution_count": null,
      "outputs": []
    },
    {
      "cell_type": "markdown",
      "source": [
        "Fortunately, in this dataset we do not have any missing values which is great."
      ],
      "metadata": {
        "id": "WfQrRuiIdcQ1"
      }
    },
    {
      "cell_type": "markdown",
      "source": [
        "### Reformatting features & Checking consistency:\n",
        "There are a variety of features within the dataset and it is important to convert them into the right format such that we can analyse them easily. This would include converting datetime features and string features.\n",
        "\n",
        "Also, one important thing is never to take assumptions without backing it with data. Here, as you can see the trip duration can also be calculated pick up and drop off datetime. We will check whether the given duration is consistent with the calculated trip duration"
      ],
      "metadata": {
        "id": "jswXPsUcdiHy"
      }
    },
    {
      "cell_type": "code",
      "source": [
        "# converting strings to datetime features\n",
        "df['pickup_datetime'] = pd.to_datetime(df.pickup_datetime)\n",
        "df['dropoff_datetime'] = pd.to_datetime(df.dropoff_datetime)\n",
        "\n",
        "# Converting yes/no flag to 1 and 0\n",
        "df['store_and_fwd_flag'] = 1 * (df.store_and_fwd_flag.values == 'Y')\n",
        "\n",
        "df['check_trip_duration'] = (df['dropoff_datetime'] - df['pickup_datetime']).map(lambda x: x.total_seconds())\n",
        "\n",
        "duration_difference = df[np.abs(df['check_trip_duration'].values  - df['trip_duration'].values) > 1]\n",
        "duration_difference.shape"
      ],
      "metadata": {
        "colab": {
          "base_uri": "https://localhost:8080/",
          "height": 235
        },
        "id": "ZIpU6mltdh2k",
        "outputId": "bb149a89-f7f7-49b4-c40d-99761cde8f10"
      },
      "execution_count": 3,
      "outputs": [
        {
          "output_type": "error",
          "ename": "NameError",
          "evalue": "ignored",
          "traceback": [
            "\u001b[0;31m---------------------------------------------------------------------------\u001b[0m",
            "\u001b[0;31mNameError\u001b[0m                                 Traceback (most recent call last)",
            "\u001b[0;32m<ipython-input-3-131bb4da6773>\u001b[0m in \u001b[0;36m<module>\u001b[0;34m\u001b[0m\n\u001b[1;32m      1\u001b[0m \u001b[0;31m# converting strings to datetime features\u001b[0m\u001b[0;34m\u001b[0m\u001b[0;34m\u001b[0m\u001b[0;34m\u001b[0m\u001b[0m\n\u001b[0;32m----> 2\u001b[0;31m \u001b[0mdf\u001b[0m\u001b[0;34m[\u001b[0m\u001b[0;34m'pickup_datetime'\u001b[0m\u001b[0;34m]\u001b[0m \u001b[0;34m=\u001b[0m \u001b[0mpd\u001b[0m\u001b[0;34m.\u001b[0m\u001b[0mto_datetime\u001b[0m\u001b[0;34m(\u001b[0m\u001b[0mdf\u001b[0m\u001b[0;34m.\u001b[0m\u001b[0mpickup_datetime\u001b[0m\u001b[0;34m)\u001b[0m\u001b[0;34m\u001b[0m\u001b[0;34m\u001b[0m\u001b[0m\n\u001b[0m\u001b[1;32m      3\u001b[0m \u001b[0mdf\u001b[0m\u001b[0;34m[\u001b[0m\u001b[0;34m'dropoff_datetime'\u001b[0m\u001b[0;34m]\u001b[0m \u001b[0;34m=\u001b[0m \u001b[0mpd\u001b[0m\u001b[0;34m.\u001b[0m\u001b[0mto_datetime\u001b[0m\u001b[0;34m(\u001b[0m\u001b[0mdf\u001b[0m\u001b[0;34m.\u001b[0m\u001b[0mdropoff_datetime\u001b[0m\u001b[0;34m)\u001b[0m\u001b[0;34m\u001b[0m\u001b[0;34m\u001b[0m\u001b[0m\n\u001b[1;32m      4\u001b[0m \u001b[0;34m\u001b[0m\u001b[0m\n\u001b[1;32m      5\u001b[0m \u001b[0;31m# Converting yes/no flag to 1 and 0\u001b[0m\u001b[0;34m\u001b[0m\u001b[0;34m\u001b[0m\u001b[0;34m\u001b[0m\u001b[0m\n",
            "\u001b[0;31mNameError\u001b[0m: name 'df' is not defined"
          ]
        }
      ]
    },
    {
      "cell_type": "markdown",
      "source": [
        "This implies that there is no inconsistency in data wrt the drop location and trip duration."
      ],
      "metadata": {
        "id": "w_B9_jkMdpdh"
      }
    },
    {
      "cell_type": "markdown",
      "source": [
        "### Target Exploration\n",
        "In this section we will take a look at the trip duration which is the target variable. It is crucial to understand it in detail as this is what we are trying to predict accurately."
      ],
      "metadata": {
        "id": "hOi1LQRkduUi"
      }
    },
    {
      "cell_type": "code",
      "source": [
        "df['trip_duration'].describe()/3600 # Trip duration in hours"
      ],
      "metadata": {
        "id": "iVH7Xx7adeiD"
      },
      "execution_count": null,
      "outputs": []
    },
    {
      "cell_type": "markdown",
      "source": [
        "Woah! There is a trip with duration of 979 hours. This is a huge outlier and might create problems at the prediction stage. One idea is to log transform the trip duration before prediction to visualise it better."
      ],
      "metadata": {
        "id": "-EmrFPC9dz3b"
      }
    },
    {
      "cell_type": "code",
      "source": [
        "df['log_trip_duration'] = np.log(df['trip_duration'].values + 1)\n",
        "sns.distplot(df['log_trip_duration'], kde = False, bins = 200)\n",
        "plt.show()"
      ],
      "metadata": {
        "id": "mhUSU_jrd2Jx"
      },
      "execution_count": null,
      "outputs": []
    },
    {
      "cell_type": "markdown",
      "source": [
        "We find:\n",
        "\n",
        "1. The majority of rides follow a rather smooth distribution that looks almost log-normal with a peak just around exp(6.5) i.e. about 17 minutes.\n",
        "2. There are several suspiciously short rides with less than 10 seconds duration.\n",
        "3. As discussed earlier, there are a few huge outliers near 12."
      ],
      "metadata": {
        "id": "6ymZLMF_eFGT"
      }
    },
    {
      "cell_type": "markdown",
      "source": [
        "### Univariate Visualization\n",
        "First of all, let us look at some of the binary features. Looking at each feature might uncover some insight that might be useful at later modelling stages."
      ],
      "metadata": {
        "id": "rIRa__vQeShu"
      }
    },
    {
      "cell_type": "code",
      "source": [
        "# Binary Features\n",
        "plt.figure(figsize=(22, 6))\n",
        "#fig, axs = plt.subplot(ncols=2)\n",
        "\n",
        "# Passenger Count\n",
        "plt.subplot(131)\n",
        "sns.countplot(df['passenger_count'])\n",
        "plt.xlabel('Passenger Count')\n",
        "plt.ylabel('Frequency')\n",
        "\n",
        "\n",
        "# vendor_id\n",
        "plt.subplot(132)\n",
        "sns.countplot(df['vendor_id'])\n",
        "plt.xlabel('vendor_id')\n",
        "plt.ylabel('Frequency')\n",
        "\n",
        "# store_and_fwd_flag\n",
        "plt.subplot(133)\n",
        "sns.countplot(df['store_and_fwd_flag'])\n",
        "plt.xlabel('store_and_fwd_flag')\n",
        "plt.ylabel('Frequency')"
      ],
      "metadata": {
        "id": "8wdGKIoiePRG"
      },
      "execution_count": null,
      "outputs": []
    },
    {
      "cell_type": "markdown",
      "source": [
        "Observations:\n",
        "\n",
        "1. Most of the trips involve only 1 passenger. There are trips with 7-9 passengers but they are very low in number.\n",
        "2. Vendor 2 has more number of trips as compared to vendor 1.\n",
        "3. The store_and_fwd_flag values, indicating whether the trip data was sent immediately to the vendor (“0”) or held in the memory of the taxi because there was no connection to the server (“1”), show that there was almost no storing taking place.\n",
        "\n",
        "Now, we will delve into the datetime features to understand the trend of number of hourly/monthly/daily taxi trips."
      ],
      "metadata": {
        "id": "tBaBcqU0edml"
      }
    },
    {
      "cell_type": "code",
      "source": [
        "df['pickup_datetime'].min(), df['pickup_datetime'].max()"
      ],
      "metadata": {
        "id": "Mea5wQKOenR-"
      },
      "execution_count": null,
      "outputs": []
    },
    {
      "cell_type": "markdown",
      "source": [
        "Clearly, These trips are for first 6 months of 2016. To look at trends, we first need to extract week days and hour of day from the pickup date."
      ],
      "metadata": {
        "id": "i4UO0Mk6epWq"
      }
    },
    {
      "cell_type": "code",
      "source": [
        "df['day_of_week'] = df['pickup_datetime'].dt.weekday\n",
        "df['hour_of_day'] = df['pickup_datetime'].dt.hour"
      ],
      "metadata": {
        "id": "uMM2F2FUerTo"
      },
      "execution_count": null,
      "outputs": []
    },
    {
      "cell_type": "code",
      "source": [
        "# Datetime features\n",
        "plt.figure(figsize=(22, 6))\n",
        "\n",
        "# Passenger Count\n",
        "plt.subplot(121)\n",
        "sns.countplot(df['day_of_week'])\n",
        "plt.xlabel('Week Day')\n",
        "plt.ylabel('Total Number of pickups')\n",
        "\n",
        "# vendor_id\n",
        "plt.subplot(122)\n",
        "sns.countplot(df['hour_of_day'])\n",
        "plt.xlabel('Hour of Day')\n",
        "plt.ylabel('Total number of pickups')"
      ],
      "metadata": {
        "id": "zik1wN2jet2_"
      },
      "execution_count": null,
      "outputs": []
    },
    {
      "cell_type": "markdown",
      "source": [
        "1. Number of pickups for weekends is much lower than week days with a peak on Thursday (4). Note that here weekday is a decimal number, where 0 is Sunday and 6 is Saturday.\n",
        "2. Number of pickups as expected is highest in late evenings. However, it is much lower during the morning peak hours."
      ],
      "metadata": {
        "id": "2J1EO1Nbe7im"
      }
    },
    {
      "cell_type": "markdown",
      "source": [
        "### Lattitude & Longitude:"
      ],
      "metadata": {
        "id": "ysXAd0kjfExy"
      }
    },
    {
      "cell_type": "markdown",
      "source": [
        "Lets look at the geospatial or location features to check consistency. They should not vary much as we are only considering trips within New York city."
      ],
      "metadata": {
        "id": "-16SaIlxfEgK"
      }
    },
    {
      "cell_type": "code",
      "source": [
        "sns.set(style=\"white\", palette=\"muted\", color_codes=True)\n",
        "f, axes = plt.subplots(2,2,figsize=(10, 10), sharex=False, sharey = False)\n",
        "sns.despine(left=True)\n",
        "sns.distplot(df['pickup_latitude'].values, label = 'pickup_latitude',color=\"b\",bins = 100, ax=axes[0,0])\n",
        "sns.distplot(df['pickup_longitude'].values, label = 'pickup_longitude',color=\"r\",bins =100, ax=axes[1,0])\n",
        "sns.distplot(df['dropoff_latitude'].values, label = 'dropoff_latitude',color=\"b\",bins =100, ax=axes[0,1])\n",
        "sns.distplot(df['dropoff_longitude'].values, label = 'dropoff_longitude',color=\"r\",bins =100, ax=axes[1,1])\n",
        "plt.setp(axes, yticks=[])\n",
        "plt.tight_layout()\n",
        "plt.show()"
      ],
      "metadata": {
        "id": "3abKHas0fCZH"
      },
      "execution_count": null,
      "outputs": []
    },
    {
      "cell_type": "markdown",
      "source": [
        "Findings - (Here, red represents pickup and dropoff Longitudes & blue represents pickup & dropoff lattitudes)\n",
        "\n",
        "1. From the plot above it is clear that pick and drop latitude are centered around 40 to 41, and longitude are situated around -74 to -73.\n",
        "2. Some extreme co-ordinates has squeezed the plot such that we see a spike here\n",
        "3. A good idea is to remove these outliers and look at the distribution more closely"
      ],
      "metadata": {
        "id": "PgYmo24QfNCD"
      }
    },
    {
      "cell_type": "code",
      "source": [
        "df = df.loc[(df.pickup_latitude > 40.6) & (df.pickup_latitude < 40.9)]\n",
        "df = df.loc[(df.dropoff_latitude>40.6) & (df.dropoff_latitude < 40.9)]\n",
        "df = df.loc[(df.dropoff_longitude > -74.05) & (df.dropoff_longitude < -73.7)]\n",
        "df = df.loc[(df.pickup_longitude > -74.05) & (df.pickup_longitude < -73.7)]\n",
        "df_data_new = df.copy()\n",
        "sns.set(style=\"white\", palette=\"muted\", color_codes=True)\n",
        "f, axes = plt.subplots(2,2,figsize=(10, 10), sharex=False, sharey = False)#\n",
        "sns.despine(left=True)\n",
        "sns.distplot(df_data_new['pickup_latitude'].values, label = 'pickup_latitude',color=\"b\",bins = 100, ax=axes[0,0])\n",
        "sns.distplot(df_data_new['pickup_longitude'].values, label = 'pickup_longitude',color=\"r\",bins =100, ax=axes[0,1])\n",
        "sns.distplot(df_data_new['dropoff_latitude'].values, label = 'dropoff_latitude',color=\"b\",bins =100, ax=axes[1, 0])\n",
        "sns.distplot(df_data_new['dropoff_longitude'].values, label = 'dropoff_longitude',color=\"r\",bins =100, ax=axes[1, 1])\n",
        "plt.setp(axes, yticks=[])\n",
        "plt.tight_layout()\n",
        "\n",
        "plt.show()"
      ],
      "metadata": {
        "id": "k3jiHyEJfScM"
      },
      "execution_count": null,
      "outputs": []
    },
    {
      "cell_type": "markdown",
      "source": [
        "1. We have a much better view of the distribution of coordinates instead of spikes. And we see that most trips are concentrated between these lat long only with a few significant clusters.\n",
        "2. These clusters are represented by the numerous peaks in the lattitude and longitude histograms"
      ],
      "metadata": {
        "id": "JdV9ZgFnfWNb"
      }
    },
    {
      "cell_type": "markdown",
      "source": [
        "### Bivariate Relations with Target\n",
        "Now that we have gone through all the basic features one by one. Let us start looking at their relation with the target. This will help us in selecting and extracting features at the modelling stage."
      ],
      "metadata": {
        "id": "5igfvMfHfjL5"
      }
    },
    {
      "cell_type": "code",
      "source": [
        "df.columns"
      ],
      "metadata": {
        "id": "l3rFg5_FfZ-w"
      },
      "execution_count": null,
      "outputs": []
    },
    {
      "cell_type": "markdown",
      "source": [
        "### Trip Duration vs Weekday\n",
        "For different week days, the trip durations can vary as different week days might have different traffic densities especially the weekends might have a much different patterns as compared to working days. Weekday is taken as a decimal number, where 0 - Sunday and 6 is Saturday."
      ],
      "metadata": {
        "id": "blxFZ86zfm1-"
      }
    },
    {
      "cell_type": "code",
      "source": [
        "summary_wdays_avg_duration = pd.DataFrame(df.groupby(['day_of_week'])['trip_duration'].median())\n",
        "summary_wdays_avg_duration.reset_index(inplace = True)\n",
        "summary_wdays_avg_duration['unit']=1\n",
        "\n",
        "sns.set(style=\"white\", palette=\"muted\", color_codes=True)\n",
        "sns.set_context(\"poster\")\n",
        "sns.tsplot(data=summary_wdays_avg_duration, time=\"day_of_week\", unit = \"unit\", value=\"trip_duration\")\n",
        "sns.despine(bottom = False)"
      ],
      "metadata": {
        "id": "qRXHcfCZfr2j"
      },
      "execution_count": null,
      "outputs": []
    },
    {
      "cell_type": "code",
      "source": [
        "summary_hourly_avg_duration = pd.DataFrame(df.groupby(['hour_of_day'])['trip_duration'].median())\n",
        "summary_hourly_avg_duration.reset_index(inplace = True)\n",
        "summary_hourly_avg_duration['unit']=1\n",
        "\n",
        "sns.set(style=\"white\", palette=\"muted\", color_codes=True)\n",
        "sns.set_context(\"poster\")\n",
        "sns.tsplot(data=summary_hourly_avg_duration, time=\"hour_of_day\", unit = \"unit\", value=\"trip_duration\")\n",
        "sns.despine(bottom = False)"
      ],
      "metadata": {
        "id": "-qkgx5iXfxnn"
      },
      "execution_count": null,
      "outputs": []
    },
    {
      "cell_type": "markdown",
      "source": [
        "1. Trip durations are definitely shorter for late night and early morning hours that can be attributed to low traffic density\n",
        "2. It follows a similar pattern when compared to number of pickups indicating a correlation between number of pickups and trip duration"
      ],
      "metadata": {
        "id": "iV6Ox0xugFxX"
      }
    },
    {
      "cell_type": "markdown",
      "source": [
        "### vendor_id vs Trip Duration\n",
        "Let's check how the trip duration varies for different vendors."
      ],
      "metadata": {
        "id": "6yVUGSF9gK2z"
      }
    },
    {
      "cell_type": "code",
      "source": [
        "plt.figure(figsize=(22, 6))\n",
        "sns.boxplot(x=\"vendor_id\", y=\"trip_duration\", data=df)\n",
        "plt.show()"
      ],
      "metadata": {
        "id": "x5_nQTo4gFdC"
      },
      "execution_count": null,
      "outputs": []
    },
    {
      "cell_type": "markdown",
      "source": [
        "Woah! This did not came out as expected. The only thing I can see from this boxplot is that for vendor 2, there are a number of outliers exceeding 24 hours while vendor 1 does not have such long trips.\n",
        "\n",
        "There could be 2 solutions to this:\n",
        "\n",
        "1. Remove the huge outliers and plot again\n",
        "2. Look at median trip duration for both vendors on hourly basis\n",
        "\n",
        "Let's try the first technique now and check trips below 50000 seconds only"
      ],
      "metadata": {
        "id": "Q1RB87xngR2L"
      }
    },
    {
      "cell_type": "code",
      "source": [
        "plt.figure(figsize=(22, 6))\n",
        "df_sub = df[df['trip_duration'] < 50000]\n",
        "sns.boxplot(x=\"vendor_id\", y=\"trip_duration\", data=df_sub)\n",
        "plt.show()"
      ],
      "metadata": {
        "id": "SFNzSArNgY61"
      },
      "execution_count": null,
      "outputs": []
    },
    {
      "cell_type": "markdown",
      "source": [
        "As you can see, we were in a false perception earlier that vendor 1 had more outliers. Since the median is just around 600 seconds, we observe that vendor 2 has many more outliers as compared to vendor 1. Next, to confirm this, we will quickly look at the mean wrt day of week for both vendors using tsplot (time series plot) from seaborn."
      ],
      "metadata": {
        "id": "r0Gi9pdtgdXY"
      }
    },
    {
      "cell_type": "markdown",
      "source": [
        "### Mean Trip Duration Vendor Wise"
      ],
      "metadata": {
        "id": "f3nbiua9gf3a"
      }
    },
    {
      "cell_type": "code",
      "source": [
        "summary_wdays_avg_duration = pd.DataFrame(df.groupby(['vendor_id','day_of_week'])['trip_duration'].mean())\n",
        "summary_wdays_avg_duration.reset_index(inplace = True)\n",
        "summary_wdays_avg_duration['unit']=1\n",
        "\n",
        "sns.set(style=\"white\", palette=\"muted\", color_codes=True)\n",
        "sns.set_context(\"poster\")\n",
        "sns.tsplot(data=summary_wdays_avg_duration, time=\"day_of_week\", unit = \"unit\", condition=\"vendor_id\", value=\"trip_duration\")\n",
        "sns.despine(bottom = False)"
      ],
      "metadata": {
        "id": "2YO7CswtghU6"
      },
      "execution_count": null,
      "outputs": []
    },
    {
      "cell_type": "markdown",
      "source": [
        "### Median Trip Duration Vendor Wise"
      ],
      "metadata": {
        "id": "JSgAXidRgmRe"
      }
    },
    {
      "cell_type": "code",
      "source": [
        "summary_wdays_avg_duration = pd.DataFrame(df.groupby(['vendor_id','day_of_week'])['trip_duration'].median())\n",
        "summary_wdays_avg_duration.reset_index(inplace = True)\n",
        "summary_wdays_avg_duration['unit']=1\n",
        "\n",
        "sns.set(style=\"white\", palette=\"muted\", color_codes=True)\n",
        "sns.set_context(\"poster\")\n",
        "sns.tsplot(data=summary_wdays_avg_duration, time=\"day_of_week\", unit = \"unit\", condition=\"vendor_id\", value=\"trip_duration\")\n",
        "sns.despine(bottom = False)"
      ],
      "metadata": {
        "id": "yq_AY38SgoPm"
      },
      "execution_count": null,
      "outputs": []
    },
    {
      "cell_type": "markdown",
      "source": [
        "Median trip duration does not vary much as can be seen from the above plot for different vendors. It emphasises the importance of looking at the correct measure for central tendency for analysis."
      ],
      "metadata": {
        "id": "vQXGa4aygqgi"
      }
    },
    {
      "cell_type": "markdown",
      "source": [
        "### Trip Duration vs Passenger Count\n",
        "Again as we are aware, there are a large number of outliers for trip duration and we will not be able to observe the differences. For this, we have taken a cutoff of 10000 seconds and used a boxplot."
      ],
      "metadata": {
        "id": "csqHVbf4guCB"
      }
    },
    {
      "cell_type": "code",
      "source": [
        "df.passenger_count.value_counts()"
      ],
      "metadata": {
        "id": "D85jU48NgsMU"
      },
      "execution_count": null,
      "outputs": []
    },
    {
      "cell_type": "code",
      "source": [
        "df.passenger_count.value_counts()\n",
        "plt.figure(figsize=(22, 6))\n",
        "df_sub = df[df['trip_duration'] < 10000]\n",
        "sns.boxplot(x=\"passenger_count\", y=\"trip_duration\", data=df_sub)\n",
        "plt.show()"
      ],
      "metadata": {
        "id": "naHzZY9cgzyR"
      },
      "execution_count": null,
      "outputs": []
    },
    {
      "cell_type": "markdown",
      "source": [
        "1. The boxplot clearly shows that there not much of a difference in distribution for the most frequently occuring passenger count values - 1, 2, 3.\n",
        "2. Another key observation is that the number of outliers are reduced for higher passenger counts but that only comes down to the individual frequencies of each passenger count."
      ],
      "metadata": {
        "id": "x9x_MwsBg2FO"
      }
    },
    {
      "cell_type": "markdown",
      "source": [
        "### Visualise most frequently occuring Pickup points on the lattitude-longitude Map\n",
        "Here, we try to visualise the most frequently occuring pickup points on the map and check how it is distributed spatially."
      ],
      "metadata": {
        "id": "wQ_LKKOgg6PZ"
      }
    },
    {
      "cell_type": "code",
      "source": [
        "rgb = np.zeros((3000, 3500, 3), dtype=np.uint8)\n",
        "rgb[..., 0] = 0\n",
        "rgb[..., 1] = 0\n",
        "rgb[..., 2] = 0\n",
        "df_data_new['pick_lat_new'] = list(map(int, (df['pickup_latitude'] - (40.6000))*10000))\n",
        "df_data_new['drop_lat_new'] = list(map(int, (df['dropoff_latitude'] - (40.6000))*10000))\n",
        "df_data_new['pick_lon_new'] = list(map(int, (df['pickup_longitude'] - (-74.050))*10000))\n",
        "df_data_new['drop_lon_new'] = list(map(int,(df['dropoff_longitude'] - (-74.050))*10000))\n",
        "\n",
        "summary_plot = pd.DataFrame(df_data_new.groupby(['pick_lat_new', 'pick_lon_new'])['id'].count())\n",
        "\n",
        "summary_plot.reset_index(inplace = True)\n",
        "summary_plot.head(120)\n",
        "lat_list = summary_plot['pick_lat_new'].unique()\n",
        "for i in lat_list:\n",
        "    lon_list = summary_plot.loc[summary_plot['pick_lat_new']==i]['pick_lon_new'].tolist()\n",
        "    unit = summary_plot.loc[summary_plot['pick_lat_new']==i]['id'].tolist()\n",
        "    for j in lon_list:\n",
        "        a = unit[lon_list.index(j)]\n",
        "        if (a//25) >0:\n",
        "            rgb[i][j][0] = 255\n",
        "            rgb[i,j, 1] = 0\n",
        "            rgb[i,j, 2] = 0\n",
        "        elif (a//10)>0:\n",
        "            rgb[i,j, 0] = 0\n",
        "            rgb[i,j, 1] = 255\n",
        "            rgb[i,j, 2] = 0\n",
        "        else:\n",
        "            rgb[i,j, 0] = 255\n",
        "            rgb[i,j, 1] = 255\n",
        "            rgb[i,j, 2] = 255\n",
        "fig, ax = plt.subplots(nrows=1,ncols=1,figsize=(14,20))\n",
        "ax.imshow(rgb, cmap = 'hot')\n",
        "ax.set_axis_off() "
      ],
      "metadata": {
        "id": "9ZQYJIaDg9oi"
      },
      "execution_count": null,
      "outputs": []
    },
    {
      "cell_type": "markdown",
      "source": [
        "Findings - From the heatmap kind of image above -\n",
        "\n",
        "1. White points - 1-10 trips have white as pickup point\n",
        "2. Green points - 10-25 trips have green as pickup point\n",
        "3. Red points - More than 25 trips have red as pickup point\n",
        "\n",
        "As expected there are a few small clusters for hot pickup points as displayed by red in the above plot. Most pickup points have less than 10 trips and distributed all over the city.\n",
        "\n",
        "If you go and have a look at an actual map of New York City, red and green points are mostly concentrated around the Manhatten Area"
      ],
      "metadata": {
        "id": "GK5DiKf4hEgF"
      }
    },
    {
      "cell_type": "markdown",
      "source": [
        "### Correlation Heatmap\n",
        "Let us quickly look at the correlation heatmap to check the correlations amongst all features."
      ],
      "metadata": {
        "id": "QsxtthvmhMCK"
      }
    },
    {
      "cell_type": "code",
      "source": [
        "plt.figure(figsize=(12, 6))\n",
        "df = df.drop(['id', 'pickup_datetime', 'dropoff_datetime',\n",
        "       'passenger_count','check_trip_duration','log_trip_duration'],\n",
        "        axis=1)\n",
        "corr = df.apply(lambda x: pd.factorize(x)[0]).corr()\n",
        "ax = sns.heatmap(corr, xticklabels=corr.columns, yticklabels=corr.columns, \n",
        "                 linewidths=.2, cmap=\"YlGnBu\")"
      ],
      "metadata": {
        "id": "xDJ_hisEg-Hr"
      },
      "execution_count": null,
      "outputs": []
    },
    {
      "cell_type": "markdown",
      "source": [
        "### Conclusions\n",
        "1. The majority of rides follow a rather smooth distribution that looks almost log-normal with a peak just around exp(6.5) i.e. about 17 minutes.\n",
        "2. There are several suspiciously short rides with less than 10 seconds duration.\n",
        "3. As discussed earlier, there are a few huge outliers near 12.\n",
        "4. Most of the trips involve only 1 passenger. There are trips with 7-9 passengers but they are very low in number.\n",
        "5. Vendor 2 has more number of trips as compared to vendor 1\n",
        "6. Number of pickups for weekends is much lower than week days with a peak on Thursday (4). Note that here weekday is a decimal number, where 0 is Sunday and 6 is Saturday.\n",
        "7. Number of pickups as expected is highest in late evenings. However, it is much lower during the morning peak hours.\n",
        "8. We see that most trips are concentrated between these lat long only with a few significant clusters. These clusters are represented by the numerous peaks in the lattitude and longitude histograms\n",
        "9. Trip durations are definitely shorter for late night and early morning hours that can be attributed to low traffic density\n",
        "10. It follows a similar pattern when compared to number of pickups indicating a correlation between number of pickups and trip duration\n",
        "11. Median trip duration does not vary much as can be seen from the above plot for different vendors.\n",
        "12. The boxplot clearly shows that there not much of a difference in distribution for the most frequently occuring passenger count values - 1, 2, 3.\n",
        "13. Another key observation is that the number of outliers are reduced for higher passenger counts but that only comes down to the individual frequencies of each passenger count.\n",
        "14. From the correlation heatmap we see that the lattitude and longitude features have higher correlation with the target as compared to the other features.\n",
        "\n",
        "\n",
        "\n"
      ],
      "metadata": {
        "id": "ocokcdc4hUpo"
      }
    },
    {
      "cell_type": "code",
      "source": [],
      "metadata": {
        "id": "SV8YQq7niEFG"
      },
      "execution_count": null,
      "outputs": []
    }
  ]
}